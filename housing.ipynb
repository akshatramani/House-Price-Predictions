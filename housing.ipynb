{
 "cells": [
  {
   "cell_type": "markdown",
   "metadata": {},
   "source": [
    "# Housing Dataset\n",
    "\n",
    "**Price prediction & House Recommendation System**\n"
   ]
  },
  {
   "cell_type": "code",
   "execution_count": null,
   "metadata": {},
   "outputs": [],
   "source": [
    "import pandas as pd\n",
    "import numpy as np\n",
    "import matplotlib.pyplot as plt\n",
    "import seaborn as sns"
   ]
  },
  {
   "cell_type": "code",
   "execution_count": null,
   "metadata": {},
   "outputs": [],
   "source": [
    "data = \"USA_Housing.csv\"\n",
    "df = pd.read_csv(data)\n",
    "df"
   ]
  },
  {
   "cell_type": "markdown",
   "metadata": {},
   "source": [
    "## Attribute understanding\n",
    "\n",
    "1. **Avg. Area Income:** This is an average Income that the people are earning in this area.\n",
    "2. **Avg. Area House Age:** An average age of house is given which varies from 2-9 years.\n",
    "3. **Avg. Area Number of Rooms:** An average number of rooms in the area which may affect the price of the house.\n",
    "4. **Avg. Area Number of Brdrooms:** An average number of bedrooms that are there in the given area.\n",
    "5. **Area Population:** Number of people living in that area.\n",
    "6. **Price:** This the price of the house that is to be calculated on the basis of the above attributes.\n",
    "7. **Address:** It is the address of that residence where this price houses are there.\n",
    "\n",
    "> **note:** This data has all the average data so that the price that would be predicted would also be average\n"
   ]
  },
  {
   "cell_type": "code",
   "execution_count": null,
   "metadata": {},
   "outputs": [],
   "source": [
    "df.info()"
   ]
  },
  {
   "cell_type": "markdown",
   "metadata": {},
   "source": [
    "- there are no null values in any of the rows present, so we are good to go.\n"
   ]
  },
  {
   "cell_type": "code",
   "execution_count": null,
   "metadata": {},
   "outputs": [],
   "source": [
    "df_describe = df.describe()\n",
    "df_describe"
   ]
  },
  {
   "cell_type": "markdown",
   "metadata": {},
   "source": [
    "**Now let us see that data is describing to us**\n",
    "\n",
    "- Count of each row is 5000 as it is not having any null values in there so we are getting a complete row count.\n",
    "- In the second row we are given the average of the average values, sounds funny right.. Jokes apart, mean is basically the measurment of central tendency and gives us the average of the distribution.\n",
    "- std: which is also know as standard deviation which help us to know the trend of the data and help us to gain a perspective and low level understanding.\n",
    "- min: Minimum value that is present in the dataset.\n",
    "- max: maximum value that is present in the dataset.\n",
    "\n",
    "> this is the description based on the statstical calculation of the data.\n"
   ]
  },
  {
   "cell_type": "code",
   "execution_count": null,
   "metadata": {},
   "outputs": [],
   "source": [
    "df.plot(x='Avg. Area Income', y='Price', style='o')\n",
    "plt.title('Avg. Area Income vs Price')\n",
    "plt.xlabel('Avg. Area Income')\n",
    "plt.ylabel('Price')\n",
    "plt.show()"
   ]
  },
  {
   "cell_type": "markdown",
   "metadata": {},
   "source": [
    "**Now let us see that how does Avg. Area Income affects the price of the house.**\n",
    "\n",
    "- it increases the price of the house as the income increases.\n",
    "- it is a positive correlation.\n"
   ]
  },
  {
   "cell_type": "code",
   "execution_count": null,
   "metadata": {},
   "outputs": [],
   "source": [
    "df_plot = df.drop(['Address'], axis=1)\n",
    "df_corr = df_plot.corr()\n",
    "plt.figure(figsize=(10, 10))\n",
    "sns.heatmap(df_corr, annot=True, cmap='coolwarm')"
   ]
  },
  {
   "cell_type": "code",
   "execution_count": null,
   "metadata": {},
   "outputs": [],
   "source": [
    "df_above_avg_income = df[(df['Avg. Area Income'] > df_describe['Avg. Area Income']['mean']) & (\n",
    "    df['Price'] > df_describe['Price']['mean'])]\n",
    "df_above_avg_income"
   ]
  },
  {
   "cell_type": "code",
   "execution_count": null,
   "metadata": {},
   "outputs": [],
   "source": [
    "from sklearn.model_selection import train_test_split\n",
    "from sklearn.linear_model import LinearRegression\n",
    "from sklearn import metrics\n",
    "\n",
    "X = df[['Avg. Area Income', 'Avg. Area Number of Rooms',\n",
    "        'Avg. Area Number of Bedrooms', 'Area Population']]\n",
    "y = df['Price'].values.reshape(-1, 1)\n",
    "\n",
    "X_train, X_test, y_train, y_test = train_test_split(X, y, test_size=0.3)\n",
    "\n",
    "regressor = LinearRegression()\n",
    "regressor.fit(X_train, y_train)\n",
    "\n",
    "print(regressor.intercept_)\n",
    "\n",
    "print(regressor.coef_)\n",
    "\n",
    "y_pred = regressor.predict(X_test)\n",
    "\n",
    "df_pred = pd.DataFrame(\n",
    "    {'Actual': y_test.flatten(), 'Predicted': y_pred.flatten()})\n",
    "df_pred"
   ]
  },
  {
   "cell_type": "code",
   "execution_count": null,
   "metadata": {},
   "outputs": [],
   "source": [
    "print('Mean Absolute Error:', metrics.mean_absolute_error(y_test, y_pred))\n",
    "\n",
    "print('Mean Squared Error:', metrics.mean_squared_error(y_test, y_pred))"
   ]
  },
  {
   "cell_type": "code",
   "execution_count": null,
   "metadata": {},
   "outputs": [],
   "source": [
    "# accuracy\n",
    "print('Root Mean Squared Error:', np.sqrt(\n",
    "    metrics.mean_squared_error(y_test, y_pred)))"
   ]
  },
  {
   "cell_type": "code",
   "execution_count": 23,
   "metadata": {},
   "outputs": [
    {
     "data": {
      "image/png": "[encoded data removed]",
      "text/plain": [
       "<Figure size 432x288 with 1 Axes>"
      ]
     },
     "metadata": {},
     "output_type": "display_data"
    }
   ],
   "source": [
    "# plot outputs\n",
    "plt.scatter(X_test['Avg. Area Income'], y_test,  color='black')\n",
    "plt.plot(X_test['Avg. Area Income'], y_pred, color='blue', linewidth=3)\n",
    "\n",
    "plt.xticks(())\n",
    "plt.yticks(())\n",
    "plt.show()"
   ]
  },
  {
   "cell_type": "code",
   "execution_count": 27,
   "metadata": {},
   "outputs": [],
   "source": [
    "import pickle\n",
    "\n",
    "# save the model to disk\n",
    "filename = 'finalized_model.pkl'\n",
    "pickle.dump(regressor, open(filename, 'wb'))"
   ]
  },
  {
   "cell_type": "code",
   "execution_count": 28,
   "metadata": {},
   "outputs": [],
   "source": [
    "# give the address according to the price\n",
    "address = df[(df['Price'] <= y_pred.mean())]"
   ]
  },
  {
   "cell_type": "code",
   "execution_count": 30,
   "metadata": {},
   "outputs": [],
   "source": [
    "list_address = list(address.iloc[0:10][['Address', 'Price']].values)"
   ]
  },
  {
   "cell_type": "code",
   "execution_count": 31,
   "metadata": {},
   "outputs": [
    {
     "data": {
      "text/plain": [
       "[array(['208 Michael Ferry Apt. 674\\nLaurabury, NE 37010-5101', 1059033.56],\n",
       "       dtype=object),\n",
       " array(['9127 Elizabeth Stravenue\\nDanieltown, WI 06482-3489', 1058987.99],\n",
       "       dtype=object),\n",
       " array(['USNS Raymond\\nFPO AE 09386', 630943.49], dtype=object),\n",
       " array(['06039 Jennifer Islands Apt. 443\\nTracyport, KS 16077', 1068138.07],\n",
       "       dtype=object),\n",
       " array(['USS Gilbert\\nFPO AA 20957', 798869.53], dtype=object),\n",
       " array(['911 Castillo Park Apt. 717\\nDavisborough, PW 78603', 663732.4],\n",
       "       dtype=object),\n",
       " array(['209 Natasha Stream Suite 961\\nHuffmanland, NE 52457', 1042814.1],\n",
       "       dtype=object),\n",
       " array(['5498 Rachel Locks\\nNew Gregoryshire, PW 54755', 528485.25],\n",
       "       dtype=object),\n",
       " array(['Unit 7424 Box 2786\\nDPO AE 71255', 1019425.94], dtype=object),\n",
       " array(['19696 Benjamin Cape\\nStephentown, ME 36952-4733', 1030591.43],\n",
       "       dtype=object)]"
      ]
     },
     "execution_count": 31,
     "metadata": {},
     "output_type": "execute_result"
    }
   ],
   "source": [
    "list_address"
   ]
  },
  {
   "cell_type": "markdown",
   "metadata": {},
   "source": [
    "# Deep Learning Method\n"
   ]
  },
  {
   "cell_type": "markdown",
   "metadata": {},
   "source": [
    "> installing pytorch\n"
   ]
  },
  {
   "cell_type": "code",
   "execution_count": 32,
   "metadata": {},
   "outputs": [
    {
     "name": "stdout",
     "output_type": "stream",
     "text": [
      "Defaulting to user installation because normal site-packages is not writeable\n",
      "Requirement already satisfied: torch in c:\\users\\shree\\appdata\\roaming\\python\\python39\\site-packages (2.1.1)\n",
      "Requirement already satisfied: torchvision in c:\\users\\shree\\appdata\\roaming\\python\\python39\\site-packages (0.16.1)\n",
      "Requirement already satisfied: torchaudio in c:\\users\\shree\\appdata\\roaming\\python\\python39\\site-packages (2.1.1)\n",
      "Requirement already satisfied: filelock in c:\\programdata\\anaconda3\\lib\\site-packages (from torch) (3.6.0)\n",
      "Requirement already satisfied: typing-extensions in c:\\programdata\\anaconda3\\lib\\site-packages (from torch) (4.1.1)\n",
      "Requirement already satisfied: jinja2 in c:\\programdata\\anaconda3\\lib\\site-packages (from torch) (2.11.3)\n",
      "Requirement already satisfied: networkx in c:\\programdata\\anaconda3\\lib\\site-packages (from torch) (2.7.1)\n",
      "Requirement already satisfied: fsspec in c:\\programdata\\anaconda3\\lib\\site-packages (from torch) (2022.2.0)\n",
      "Requirement already satisfied: sympy in c:\\programdata\\anaconda3\\lib\\site-packages (from torch) (1.10.1)\n",
      "Requirement already satisfied: pillow!=8.3.*,>=5.3.0 in c:\\programdata\\anaconda3\\lib\\site-packages (from torchvision) (9.0.1)\n",
      "Requirement already satisfied: requests in c:\\programdata\\anaconda3\\lib\\site-packages (from torchvision) (2.27.1)\n",
      "Requirement already satisfied: numpy in c:\\programdata\\anaconda3\\lib\\site-packages (from torchvision) (1.21.5)\n",
      "Requirement already satisfied: MarkupSafe>=0.23 in c:\\programdata\\anaconda3\\lib\\site-packages (from jinja2->torch) (2.0.1)\n",
      "Requirement already satisfied: urllib3<1.27,>=1.21.1 in c:\\programdata\\anaconda3\\lib\\site-packages (from requests->torchvision) (1.26.9)\n",
      "Requirement already satisfied: certifi>=2017.4.17 in c:\\programdata\\anaconda3\\lib\\site-packages (from requests->torchvision) (2021.10.8)\n",
      "Requirement already satisfied: idna<4,>=2.5 in c:\\programdata\\anaconda3\\lib\\site-packages (from requests->torchvision) (3.3)\n",
      "Requirement already satisfied: charset-normalizer~=2.0.0 in c:\\programdata\\anaconda3\\lib\\site-packages (from requests->torchvision) (2.0.4)\n",
      "Requirement already satisfied: mpmath>=0.19 in c:\\programdata\\anaconda3\\lib\\site-packages (from sympy->torch) (1.2.1)\n"
     ]
    }
   ],
   "source": [
    "!pip3 install torch torchvision torchaudio"
   ]
  },
  {
   "cell_type": "markdown",
   "metadata": {},
   "source": [
    "Import the libraries"
   ]
  },
  {
   "cell_type": "code",
   "execution_count": 34,
   "metadata": {},
   "outputs": [
    {
     "ename": "ModuleNotFoundError",
     "evalue": "No module named 'torch'",
     "output_type": "error",
     "traceback": [
      "\u001b[1;31m---------------------------------------------------------------------------\u001b[0m",
      "\u001b[1;31mModuleNotFoundError\u001b[0m                       Traceback (most recent call last)",
      "Input \u001b[1;32mIn [34]\u001b[0m, in \u001b[0;36m<cell line: 1>\u001b[1;34m()\u001b[0m\n\u001b[1;32m----> 1\u001b[0m \u001b[38;5;28;01mimport\u001b[39;00m \u001b[38;5;21;01mtorch\u001b[39;00m\n\u001b[0;32m      2\u001b[0m \u001b[38;5;28;01mfrom\u001b[39;00m \u001b[38;5;21;01mtorch\u001b[39;00m\u001b[38;5;21;01m.\u001b[39;00m\u001b[38;5;21;01mautograd\u001b[39;00m \u001b[38;5;28;01mimport\u001b[39;00m Variable\n",
      "\u001b[1;31mModuleNotFoundError\u001b[0m: No module named 'torch'"
     ]
    }
   ],
   "source": [
    "import torch\n",
    "from torch.autograd import Variable"
   ]
  },
  {
   "cell_type": "markdown",
   "metadata": {},
   "source": [
    "created a data variable which tends to fit in the data X (features) and y (test) to train our model"
   ]
  },
  {
   "cell_type": "code",
   "execution_count": 35,
   "metadata": {},
   "outputs": [
    {
     "ename": "NameError",
     "evalue": "name 'Variable' is not defined",
     "output_type": "error",
     "traceback": [
      "\u001b[1;31m---------------------------------------------------------------------------\u001b[0m",
      "\u001b[1;31mNameError\u001b[0m                                 Traceback (most recent call last)",
      "Input \u001b[1;32mIn [35]\u001b[0m, in \u001b[0;36m<cell line: 1>\u001b[1;34m()\u001b[0m\n\u001b[1;32m----> 1\u001b[0m X \u001b[38;5;241m=\u001b[39m \u001b[43mVariable\u001b[49m(torch\u001b[38;5;241m.\u001b[39mTensor(df[[\u001b[38;5;124m'\u001b[39m\u001b[38;5;124mAvg. Area Income\u001b[39m\u001b[38;5;124m'\u001b[39m, \u001b[38;5;124m'\u001b[39m\u001b[38;5;124mAvg. Area Number of Rooms\u001b[39m\u001b[38;5;124m'\u001b[39m, \u001b[38;5;124m'\u001b[39m\u001b[38;5;124mAvg. Area Number of Bedrooms\u001b[39m\u001b[38;5;124m'\u001b[39m, \u001b[38;5;124m'\u001b[39m\u001b[38;5;124mArea Population\u001b[39m\u001b[38;5;124m'\u001b[39m]]\u001b[38;5;241m.\u001b[39mvalues))\n\u001b[0;32m      2\u001b[0m y \u001b[38;5;241m=\u001b[39m Variable(torch\u001b[38;5;241m.\u001b[39mTensor(df[\u001b[38;5;124m'\u001b[39m\u001b[38;5;124mPrice\u001b[39m\u001b[38;5;124m'\u001b[39m]\u001b[38;5;241m.\u001b[39mvalues))\n",
      "\u001b[1;31mNameError\u001b[0m: name 'Variable' is not defined"
     ]
    }
   ],
   "source": [
    "X = Variable(torch.Tensor(df[['Avg. Area Income', 'Avg. Area Number of Rooms', 'Avg. Area Number of Bedrooms', 'Area Population']].values))\n",
    "y = Variable(torch.Tensor(df['Price'].values))"
   ]
  },
  {
   "cell_type": "code",
   "execution_count": 36,
   "metadata": {},
   "outputs": [
    {
     "name": "stdout",
     "output_type": "stream",
     "text": [
      "      Avg. Area Income  Avg. Area Number of Rooms  \\\n",
      "0          79545.45857                   7.009188   \n",
      "1          79248.64245                   6.730821   \n",
      "2          61287.06718                   8.512727   \n",
      "3          63345.24005                   5.586729   \n",
      "4          59982.19723                   7.839388   \n",
      "...                ...                        ...   \n",
      "4995       60567.94414                   6.137356   \n",
      "4996       78491.27543                   6.576763   \n",
      "4997       63390.68689                   4.805081   \n",
      "4998       68001.33124                   7.130144   \n",
      "4999       65510.58180                   6.792336   \n",
      "\n",
      "      Avg. Area Number of Bedrooms  Area Population  \n",
      "0                             4.09      23086.80050  \n",
      "1                             3.09      40173.07217  \n",
      "2                             5.13      36882.15940  \n",
      "3                             3.26      34310.24283  \n",
      "4                             4.23      26354.10947  \n",
      "...                            ...              ...  \n",
      "4995                          3.46      22837.36103  \n",
      "4996                          4.02      25616.11549  \n",
      "4997                          2.13      33266.14549  \n",
      "4998                          5.44      42625.62016  \n",
      "4999                          4.07      46501.28380  \n",
      "\n",
      "[5000 rows x 4 columns]\n"
     ]
    }
   ],
   "source": [
    "print(X)"
   ]
  },
  {
   "cell_type": "code",
   "execution_count": 37,
   "metadata": {},
   "outputs": [
    {
     "name": "stdout",
     "output_type": "stream",
     "text": [
      "[[1059033.56]\n",
      " [1505890.92]\n",
      " [1058987.99]\n",
      " ...\n",
      " [1030729.58]\n",
      " [1198656.87]\n",
      " [1298950.48]]\n"
     ]
    }
   ],
   "source": [
    "print(y)"
   ]
  },
  {
   "cell_type": "markdown",
   "metadata": {},
   "source": [
    "Moving further here I have created a linear regression model with 4 features"
   ]
  },
  {
   "cell_type": "code",
   "execution_count": null,
   "metadata": {},
   "outputs": [],
   "source": [
    "class LinearRegression(torch.nn.Module):\n",
    "\n",
    "    def __init__(self):\n",
    "        super(LinearRegression, self).__init__()\n",
    "        self.linear = torch.nn.Linear(4, 1)\n",
    "\n",
    "    def forward(self, x):\n",
    "        predict_y = self.linear(x)\n",
    "        return predict_y"
   ]
  },
  {
   "cell_type": "code",
   "execution_count": 38,
   "metadata": {},
   "outputs": [],
   "source": [
    "linear_model = LinearRegression()"
   ]
  },
  {
   "cell_type": "markdown",
   "metadata": {},
   "source": [
    "created the criterias for loss function and optimizers to imporve the accuracy of the model\n",
    "- we have used Mean Squared Error as our loss function which is also a legacy loss function for regression problems\n",
    "- we have used Stocastic Gradient Descent as our optimizer which is an iterative method for optimizing an objective function"
   ]
  },
  {
   "cell_type": "code",
   "execution_count": 39,
   "metadata": {},
   "outputs": [
    {
     "ename": "NameError",
     "evalue": "name 'torch' is not defined",
     "output_type": "error",
     "traceback": [
      "\u001b[1;31m---------------------------------------------------------------------------\u001b[0m",
      "\u001b[1;31mNameError\u001b[0m                                 Traceback (most recent call last)",
      "Input \u001b[1;32mIn [39]\u001b[0m, in \u001b[0;36m<cell line: 1>\u001b[1;34m()\u001b[0m\n\u001b[1;32m----> 1\u001b[0m define_criterion \u001b[38;5;241m=\u001b[39m \u001b[43mtorch\u001b[49m\u001b[38;5;241m.\u001b[39mnn\u001b[38;5;241m.\u001b[39mMSELoss(size_average\u001b[38;5;241m=\u001b[39m\u001b[38;5;28;01mFalse\u001b[39;00m)\n\u001b[0;32m      3\u001b[0m SGD_optimizer \u001b[38;5;241m=\u001b[39m torch\u001b[38;5;241m.\u001b[39moptim\u001b[38;5;241m.\u001b[39mSGD(linear_model\u001b[38;5;241m.\u001b[39mparameters(), lr\u001b[38;5;241m=\u001b[39m\u001b[38;5;241m0.01\u001b[39m)\n",
      "\u001b[1;31mNameError\u001b[0m: name 'torch' is not defined"
     ]
    }
   ],
   "source": [
    "define_criterion = torch.nn.MSELoss(size_average=False)\n",
    "\n",
    "SGD_optimizer = torch.optim.SGD(linear_model.parameters(), lr=0.01)"
   ]
  },
  {
   "cell_type": "markdown",
   "metadata": {},
   "source": [
    "Here we go..\n",
    "we have started our traing here with 25 epochs"
   ]
  },
  {
   "cell_type": "code",
   "execution_count": 40,
   "metadata": {},
   "outputs": [
    {
     "ename": "TypeError",
     "evalue": "'LinearRegression' object is not callable",
     "output_type": "error",
     "traceback": [
      "\u001b[1;31m---------------------------------------------------------------------------\u001b[0m",
      "\u001b[1;31mTypeError\u001b[0m                                 Traceback (most recent call last)",
      "Input \u001b[1;32mIn [40]\u001b[0m, in \u001b[0;36m<cell line: 1>\u001b[1;34m()\u001b[0m\n\u001b[0;32m      1\u001b[0m \u001b[38;5;28;01mfor\u001b[39;00m epoch \u001b[38;5;129;01min\u001b[39;00m \u001b[38;5;28mrange\u001b[39m(\u001b[38;5;241m1\u001b[39m): \n\u001b[1;32m----> 2\u001b[0m     predict_y \u001b[38;5;241m=\u001b[39m \u001b[43mlinear_model\u001b[49m\u001b[43m(\u001b[49m\u001b[43mX\u001b[49m\u001b[43m)\u001b[49m \n\u001b[0;32m      3\u001b[0m     loss \u001b[38;5;241m=\u001b[39m define_criterion(predict_y, y) \n\u001b[0;32m      4\u001b[0m     SGD_optimizer\u001b[38;5;241m.\u001b[39mzero_grad() \n",
      "\u001b[1;31mTypeError\u001b[0m: 'LinearRegression' object is not callable"
     ]
    }
   ],
   "source": [
    "for epoch in range(1): \n",
    "    predict_y = linear_model(X) \n",
    "    loss = define_criterion(predict_y, y) \n",
    "    SGD_optimizer.zero_grad() \n",
    "    loss.backward() \n",
    "\n",
    "    SGD_optimizer.step() \n",
    "    print('epoch {}, loss function {}'.format(epoch+1, loss.item()))"
   ]
  },
  {
   "cell_type": "markdown",
   "metadata": {},
   "source": [
    "NOW IT'S TIME TO TEST the model"
   ]
  },
  {
   "cell_type": "code",
   "execution_count": 41,
   "metadata": {},
   "outputs": [
    {
     "ename": "NameError",
     "evalue": "name 'Variable' is not defined",
     "output_type": "error",
     "traceback": [
      "\u001b[1;31m---------------------------------------------------------------------------\u001b[0m",
      "\u001b[1;31mNameError\u001b[0m                                 Traceback (most recent call last)",
      "Input \u001b[1;32mIn [41]\u001b[0m, in \u001b[0;36m<cell line: 1>\u001b[1;34m()\u001b[0m\n\u001b[1;32m----> 1\u001b[0m test \u001b[38;5;241m=\u001b[39m \u001b[43mVariable\u001b[49m(torch\u001b[38;5;241m.\u001b[39mTensor([[\u001b[38;5;241m79248.64245\u001b[39m, \u001b[38;5;241m6.730821\u001b[39m, \u001b[38;5;241m3.09\u001b[39m, \u001b[38;5;241m1059033.56\u001b[39m]]))\n\u001b[0;32m      2\u001b[0m predict \u001b[38;5;241m=\u001b[39m linear_model(test)\n\u001b[0;32m      3\u001b[0m \u001b[38;5;28mprint\u001b[39m(\u001b[38;5;124m\"\u001b[39m\u001b[38;5;124mpredict value: \u001b[39m\u001b[38;5;124m\"\u001b[39m, predict\u001b[38;5;241m.\u001b[39mdata[\u001b[38;5;241m0\u001b[39m][\u001b[38;5;241m0\u001b[39m])\n",
      "\u001b[1;31mNameError\u001b[0m: name 'Variable' is not defined"
     ]
    }
   ],
   "source": [
    "test = Variable(torch.Tensor([[79248.64245, 6.730821, 3.09, 1059033.56]]))\n",
    "predict = linear_model(test)\n",
    "print(\"predict value: \", predict.data[0][0])"
   ]
  },
  {
   "cell_type": "code",
   "execution_count": null,
   "metadata": {},
   "outputs": [],
   "source": []
  },
  {
   "cell_type": "code",
   "execution_count": null,
   "metadata": {},
   "outputs": [],
   "source": []
  },
  {
   "cell_type": "code",
   "execution_count": null,
   "metadata": {},
   "outputs": [],
   "source": []
  },
  {
   "cell_type": "code",
   "execution_count": null,
   "metadata": {},
   "outputs": [],
   "source": []
  }
 ],
 "metadata": {
  "kernelspec": {
   "display_name": "Python 3 (ipykernel)",
   "language": "python",
   "name": "python3"
  },
  "language_info": {
   "codemirror_mode": {
    "name": "ipython",
    "version": 3
   },
   "file_extension": ".py",
   "mimetype": "text/x-python",
   "name": "python",
   "nbconvert_exporter": "python",
   "pygments_lexer": "ipython3",
   "version": "3.9.12"
  }
 },
 "nbformat": 4,
 "nbformat_minor": 2
}
